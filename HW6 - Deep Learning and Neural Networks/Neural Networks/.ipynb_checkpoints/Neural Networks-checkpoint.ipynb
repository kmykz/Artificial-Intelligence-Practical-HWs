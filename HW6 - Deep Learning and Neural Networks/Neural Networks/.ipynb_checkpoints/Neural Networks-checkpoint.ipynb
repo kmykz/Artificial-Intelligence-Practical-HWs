{
 "cells": [
  {
   "cell_type": "markdown",
   "id": "489b9bb3",
   "metadata": {},
   "source": [
    "<div align=center>\n",
    "\t\t\n",
    "<p></p>\n",
    "<p></p>\n",
    "<font size=5>\n",
    "In the Name of God\n",
    "<font/>\n",
    "<p></p>\n",
    " <br/>\n",
    "    <br/>\n",
    "    <br/>\n",
    "<font color=#FF7500>\n",
    "Sharif University of Technology - Departmenet of Computer Engineering\n",
    "</font>\n",
    "<p></p>\n",
    "<font color=blue>\n",
    "Artifical Intelligence - Dr. Mohammad Hossein Rohban\n",
    "</font>\n",
    "<br/>\n",
    "<br/>\n",
    "Spring 2022\n",
    "\n",
    "</div>\n",
    "\n",
    "<hr/>\n",
    "\t\t<div align=center>\n",
    "\t\t    <font color=red size=6>\n",
    "\t\t\t    <br />\n",
    "Practical Assignment 6 Neural Networks\n",
    "            \t<br/>\n",
    "\t\t\t</font>\n",
    "    <br/>\n",
    "    <br/>\n",
    "<font size=4>\n",
    "                <br/><b>\n",
    "              Cheating is Strongly Prohibited\n",
    "                </b><br/><br/>\n",
    "                <font color=red>\n",
    "Please run all the cells.\n",
    "     </font>\n",
    "</font>\n",
    "                <br/>\n",
    "    </div>"
   ]
  },
  {
   "cell_type": "markdown",
   "id": "a6c2fd6d",
   "metadata": {},
   "source": [
    "# Personal Data"
   ]
  },
  {
   "cell_type": "code",
   "execution_count": 7,
   "id": "4e90a030",
   "metadata": {},
   "outputs": [],
   "source": [
    "# Set your student number\n",
    "student_number = 99102037 \n",
    "Name = 'Kamyar'\n",
    "Last_Name = 'Kazari'"
   ]
  },
  {
   "cell_type": "markdown",
   "id": "339da203",
   "metadata": {},
   "source": [
    "# Rules\n",
    "- You are not allowed to add or remove cells. You **must use the provided space to write your code**. If you don't follow this rule, **your Practical Assignment won't be graded**. \n",
    "- You **are** allowed to use **for loops** only in the implementation of the **FullyConnectedNet** class. "
   ]
  },
  {
   "cell_type": "code",
   "execution_count": 8,
   "id": "881f2e4c",
   "metadata": {},
   "outputs": [
    {
     "name": "stdout",
     "output_type": "stream",
     "text": [
      "Requirement already satisfied: future in /Users/kamyarkazari/.conda/envs/LA_HW1_Practical/lib/python3.6/site-packages (0.18.2)\n",
      "Requirement already satisfied: pandas in /Users/kamyarkazari/.conda/envs/LA_HW1_Practical/lib/python3.6/site-packages (1.1.5)\n",
      "Requirement already satisfied: python-dateutil>=2.7.3 in /Users/kamyarkazari/.conda/envs/LA_HW1_Practical/lib/python3.6/site-packages (from pandas) (2.8.2)\n",
      "Requirement already satisfied: pytz>=2017.2 in /Users/kamyarkazari/.conda/envs/LA_HW1_Practical/lib/python3.6/site-packages (from pandas) (2022.1)\n",
      "Requirement already satisfied: numpy>=1.15.4 in /Users/kamyarkazari/.conda/envs/LA_HW1_Practical/lib/python3.6/site-packages (from pandas) (1.17.0)\n",
      "Requirement already satisfied: six>=1.5 in /Users/kamyarkazari/.conda/envs/LA_HW1_Practical/lib/python3.6/site-packages (from python-dateutil>=2.7.3->pandas) (1.16.0)\n",
      "Requirement already satisfied: torchvision in /Users/kamyarkazari/.conda/envs/LA_HW1_Practical/lib/python3.6/site-packages (0.11.3)\n",
      "Requirement already satisfied: numpy in /Users/kamyarkazari/.conda/envs/LA_HW1_Practical/lib/python3.6/site-packages (from torchvision) (1.17.0)\n",
      "Requirement already satisfied: pillow!=8.3.0,>=5.3.0 in /Users/kamyarkazari/.conda/envs/LA_HW1_Practical/lib/python3.6/site-packages (from torchvision) (8.4.0)\n",
      "Requirement already satisfied: torch==1.10.2 in /Users/kamyarkazari/.conda/envs/LA_HW1_Practical/lib/python3.6/site-packages (from torchvision) (1.10.2)\n",
      "Requirement already satisfied: dataclasses in /Users/kamyarkazari/.conda/envs/LA_HW1_Practical/lib/python3.6/site-packages (from torch==1.10.2->torchvision) (0.8)\n",
      "Requirement already satisfied: typing-extensions in /Users/kamyarkazari/.conda/envs/LA_HW1_Practical/lib/python3.6/site-packages (from torch==1.10.2->torchvision) (4.1.1)\n"
     ]
    }
   ],
   "source": [
    "!pip install future\n",
    "!pip install pandas\n",
    "!pip install torchvision"
   ]
  },
  {
   "cell_type": "code",
   "execution_count": 1,
   "id": "8efb6140",
   "metadata": {},
   "outputs": [],
   "source": [
    "from Helper_codes.gradient_check import eval_numerical_gradient, eval_numerical_gradient_array\n",
    "from Helper_codes.MNIST_data import get_MNIST_data, get_normalized_MNIST_data\n",
    "from builtins import range\n",
    "import numpy as np\n",
    "import matplotlib.pyplot as plt\n",
    "from Helper_codes.solver import *\n",
    "import pandas as pd\n",
    "from sklearn.datasets import fetch_california_housing\n",
    "from Helper_codes.california_housing import *\n",
    "import math\n",
    "\n",
    "\n",
    "%matplotlib inline\n",
    "plt.rcParams['figure.figsize'] = (10.0, 8.0) # set default size of plots\n",
    "plt.rcParams['image.cmap'] = 'gray'\n",
    "\n",
    "def rel_error(x, y):\n",
    "  \"\"\" returns relative error \"\"\"\n",
    "  return np.max(np.abs(x - y) / (np.maximum(1e-8, np.abs(x) + np.abs(y))))\n",
    "\n",
    "def print_mean_std(x,axis=0):\n",
    "    print(f\"  means: {x.mean(axis=axis)}\")\n",
    "    print(f\"  stds:  {x.std(axis=axis)}\\n\")"
   ]
  },
  {
   "cell_type": "markdown",
   "id": "57c3af9e",
   "metadata": {},
   "source": [
    "# Fully-Connected Neural Nets\n",
    "In this exercise we will implement fully-connected networks using a modular approach. For each layer we will implement a `forward` and a `backward` function. The `forward` function will receive inputs, weights, and other parameters and will return both an output and a `cache` object storing data needed for the backward pass, like this:\n",
    "\n",
    "```python\n",
    "def layer_forward(x, w):\n",
    "  \"\"\" Receive inputs x and weights w \"\"\"\n",
    "  # Do some computations ...\n",
    "  z = # ... some intermediate value\n",
    "  # Do some more computations ...\n",
    "  out = # the output\n",
    "   \n",
    "  cache = (x, w, z, out) # Values we need to compute gradients\n",
    "   \n",
    "  return out, cache\n",
    "```\n",
    "\n",
    "The backward pass will receive upstream derivatives and the `cache` object, and will return gradients with respect to the inputs and weights, like this:\n",
    "\n",
    "```python\n",
    "def layer_backward(dout, cache):\n",
    "  \"\"\"\n",
    "  Receive dout (derivative of loss with respect to outputs) and cache,\n",
    "  and compute derivative with respect to inputs.\n",
    "  \"\"\"\n",
    "  # Unpack cache values\n",
    "  x, w, z, out = cache\n",
    "  \n",
    "  # Use values in cache to compute derivatives\n",
    "  dx = # Derivative of loss with respect to x\n",
    "  dw = # Derivative of loss with respect to w\n",
    "  \n",
    "  return dx, dw\n",
    "```\n",
    "\n",
    "After implementing a bunch of layers this way, we will be able to easily combine them to build classifiers with different architectures."
   ]
  },
  {
   "cell_type": "markdown",
   "id": "649895ab",
   "metadata": {},
   "source": [
    "# Affine layer: forward\n",
    "Implement the `affine_forward` function."
   ]
  },
  {
   "cell_type": "code",
   "execution_count": 2,
   "id": "03c584b4",
   "metadata": {},
   "outputs": [],
   "source": [
    "def affine_forward(x, w, b):\n",
    "    \"\"\"\n",
    "    Computes the forward pass for an affine (fully-connected) layer.\n",
    "\n",
    "    The input x has shape (N, d_1, ..., d_k) and contains a minibatch of N\n",
    "    examples, where each example x[i] has shape (d_1, ..., d_k). We will\n",
    "    reshape each input into a vector of dimension D = d_1 * ... * d_k, and\n",
    "    then transform it to an output vector of dimension M.\n",
    "\n",
    "    Inputs:\n",
    "    - x: A numpy array containing input data, of shape (N, d_1, ..., d_k)\n",
    "    - w: A numpy array of weights, of shape (D, M)\n",
    "    - b: A numpy array of biases, of shape (M,)\n",
    "\n",
    "    Returns a tuple of:\n",
    "    - out: output, of shape (N, M)\n",
    "    - cache: (x, w, b)\n",
    "    \"\"\"\n",
    "    ###########################################################################\n",
    "    # TODO: Implement the affine forward pass. Store the result in out. You   #\n",
    "    # will need to reshape the input into rows.                               #\n",
    "    ###########################################################################\n",
    "    # *****START OF YOUR CODE (DO NOT DELETE/MODIFY THIS LINE)*****\n",
    "    N = x.shape[0]\n",
    "    reshaped_x = np.reshape(x, (N, -1))\n",
    "    out = np.dot(reshaped_x, w) + b\n",
    "    cache = (x, w, b)\n",
    "    return out, cache\n",
    "    pass"
   ]
  },
  {
   "cell_type": "markdown",
   "id": "acdd5827",
   "metadata": {},
   "source": [
    "You can test your implementaion by running the following:"
   ]
  },
  {
   "cell_type": "code",
   "execution_count": 3,
   "id": "80db2fe8",
   "metadata": {},
   "outputs": [
    {
     "name": "stdout",
     "output_type": "stream",
     "text": [
      "Testing affine_forward function:\n",
      "difference:  9.769849468192957e-10\n"
     ]
    }
   ],
   "source": [
    "# Test the affine_forward function\n",
    "\n",
    "num_inputs = 2\n",
    "input_shape = (4, 5, 6)\n",
    "output_dim = 3\n",
    "\n",
    "input_size = num_inputs * np.prod(input_shape)\n",
    "weight_size = output_dim * np.prod(input_shape)\n",
    "\n",
    "x = np.linspace(-0.1, 0.5, num=input_size).reshape(num_inputs, *input_shape)\n",
    "w = np.linspace(-0.2, 0.3, num=weight_size).reshape(np.prod(input_shape), output_dim)\n",
    "b = np.linspace(-0.3, 0.1, num=output_dim)\n",
    "\n",
    "out, _ = affine_forward(x, w, b)\n",
    "correct_out = np.array([[ 1.49834967,  1.70660132,  1.91485297],\n",
    "                        [ 3.25553199,  3.5141327,   3.77273342]])\n",
    "\n",
    "# Compare your output with ours. The error should be around e-9 or less.\n",
    "print('Testing affine_forward function:')\n",
    "print('difference: ', rel_error(out, correct_out))"
   ]
  },
  {
   "cell_type": "markdown",
   "id": "8e64b312",
   "metadata": {},
   "source": [
    "# Affine layer: backward\n",
    "Now implement the `affine_backward` function and test your implementation using numeric gradient checking."
   ]
  },
  {
   "cell_type": "code",
   "execution_count": 87,
   "id": "e61d5b9c",
   "metadata": {},
   "outputs": [],
   "source": [
    "def affine_backward(dout, cache):\n",
    "    \"\"\"\n",
    "    Computes the backward pass for an affine layer.\n",
    "\n",
    "    Inputs:\n",
    "    - dout: Upstream derivative, of shape (N, M)\n",
    "    - cache: Tuple of:\n",
    "      - x: Input data, of shape (N, d_1, ... d_k)\n",
    "      - w: Weights, of shape (D, M)\n",
    "      - b: Biases, of shape (M,)\n",
    "\n",
    "    Returns a tuple of:\n",
    "    - dx: Gradient with respect to x, of shape (N, d1, ..., d_k)\n",
    "    - dw: Gradient with respect to w, of shape (D, M)\n",
    "    - db: Gradient with respect to b, of shape (M,)\n",
    "    \"\"\"    \n",
    "    ###########################################################################\n",
    "    # TODO: Implement the affine backward pass.                               #\n",
    "    ###########################################################################\n",
    "    # *****START OF YOUR CODE (DO NOT DELETE/MODIFY THIS LINE)*****\n",
    "    x, w, b = cache\n",
    "    N = x.shape[0]\n",
    "    reshaped_x = np.reshape(x, (N, -1))\n",
    "    # print(\"dout, w,reshaped_x\",dout.shape,w.shape,reshaped_x.shape,x.shape)\n",
    "    dx = np.dot(dout, w.T)\n",
    "    # print(\"khar\")\n",
    "    dx = np.reshape(dx, x.shape)\n",
    "    \n",
    "    dw = np.dot(reshaped_x.T, dout)\n",
    "    db = np.sum(dout, axis=0)\n",
    "    return dx, dw, db\n",
    "\n",
    "  \n",
    "    \n",
    "\n",
    "    pass"
   ]
  },
  {
   "cell_type": "code",
   "execution_count": 5,
   "id": "64de3af3",
   "metadata": {
    "scrolled": true
   },
   "outputs": [
    {
     "name": "stdout",
     "output_type": "stream",
     "text": [
      "Testing affine_backward function:\n",
      "dx error:  5.399100368651805e-11\n",
      "dw error:  9.904211865398145e-11\n",
      "db error:  2.4122867568119087e-11\n"
     ]
    }
   ],
   "source": [
    "# Test the affine_backward function\n",
    "np.random.seed(231)\n",
    "x = np.random.randn(10, 2, 3)\n",
    "w = np.random.randn(6, 5)\n",
    "b = np.random.randn(5)\n",
    "dout = np.random.randn(10, 5)\n",
    "\n",
    "dx_num = eval_numerical_gradient_array(lambda x: affine_forward(x, w, b)[0], x, dout)\n",
    "dw_num = eval_numerical_gradient_array(lambda w: affine_forward(x, w, b)[0], w, dout)\n",
    "db_num = eval_numerical_gradient_array(lambda b: affine_forward(x, w, b)[0], b, dout)\n",
    "\n",
    "_, cache = affine_forward(x, w, b)\n",
    "dx, dw, db = affine_backward(dout, cache)\n",
    "\n",
    "# The error should be around e-10 or less\n",
    "print('Testing affine_backward function:')\n",
    "print('dx error: ', rel_error(dx_num, dx))\n",
    "print('dw error: ', rel_error(dw_num, dw))\n",
    "print('db error: ', rel_error(db_num, db))"
   ]
  },
  {
   "cell_type": "markdown",
   "id": "af5910d2",
   "metadata": {},
   "source": [
    "# ReLU activation: forward\n",
    "Implement the forward pass for the ReLU activation function in the `relu_forward` function and test your implementation using numeric gradient checking."
   ]
  },
  {
   "cell_type": "code",
   "execution_count": 6,
   "id": "c537098f",
   "metadata": {},
   "outputs": [],
   "source": [
    "def relu_forward(x):\n",
    "    \"\"\"\n",
    "    Computes the forward pass for a layer of rectified linear units (ReLUs).\n",
    "\n",
    "    Input:\n",
    "    - x: Inputs, of any shape\n",
    "\n",
    "    Returns a tuple of:\n",
    "    - out: Output, of the same shape as x\n",
    "    - cache: x\n",
    "    \"\"\"\n",
    "    ###########################################################################\n",
    "    # TODO: Implement the ReLU forward pass.                                  #\n",
    "    ###########################################################################\n",
    "    # *****START OF YOUR CODE (DO NOT DELETE/MODIFY THIS LINE)*****\n",
    "    out = np.maximum(0, x)\n",
    "    cache = x\n",
    "    return out, cache\n",
    "    pass"
   ]
  },
  {
   "cell_type": "code",
   "execution_count": 7,
   "id": "4cc17aa4",
   "metadata": {},
   "outputs": [
    {
     "name": "stdout",
     "output_type": "stream",
     "text": [
      "Testing relu_forward function:\n",
      "difference:  4.999999798022158e-08\n"
     ]
    }
   ],
   "source": [
    "# Test the relu_forward function\n",
    "\n",
    "x = np.linspace(-0.5, 0.5, num=12).reshape(3, 4)\n",
    "\n",
    "out, _ = relu_forward(x)\n",
    "correct_out = np.array([[ 0.,          0.,          0.,          0.,        ],\n",
    "                        [ 0.,          0.,          0.04545455,  0.13636364,],\n",
    "                        [ 0.22727273,  0.31818182,  0.40909091,  0.5,       ]])\n",
    "\n",
    "# Compare your output with ours. The error should be on the order of e-8\n",
    "print('Testing relu_forward function:')\n",
    "print('difference: ', rel_error(out, correct_out))"
   ]
  },
  {
   "cell_type": "markdown",
   "id": "6171f37c",
   "metadata": {},
   "source": [
    "# ReLU activation: backward\n",
    "Now implement the backward pass for the ReLU activation function in the `relu_backward` function."
   ]
  },
  {
   "cell_type": "code",
   "execution_count": 8,
   "id": "3187da88",
   "metadata": {},
   "outputs": [],
   "source": [
    "def relu_backward(dout, cache):\n",
    "    \"\"\"\n",
    "    Computes the backward pass for a layer of rectified linear units (ReLUs).\n",
    "\n",
    "    Input:\n",
    "    - dout: Upstream derivatives, of any shape\n",
    "    - cache: Input x, of same shape as dout\n",
    "\n",
    "    Returns:\n",
    "    - dx: Gradient with respect to x\n",
    "    \"\"\"\n",
    "    ###########################################################################\n",
    "    # TODO: Implement the ReLU backward pass.                                 #\n",
    "    ###########################################################################\n",
    "    # *****START OF YOUR CODE (DO NOT DELETE/MODIFY THIS LINE)*****\n",
    "    x = cache\n",
    "    dx = dout * (x > 0)\n",
    "    return dx\n",
    "    \n",
    "    pass"
   ]
  },
  {
   "cell_type": "markdown",
   "id": "88966dd6",
   "metadata": {},
   "source": [
    "You can test your implementation using numeric gradient checking:"
   ]
  },
  {
   "cell_type": "code",
   "execution_count": 9,
   "id": "e81e30fd",
   "metadata": {},
   "outputs": [
    {
     "name": "stdout",
     "output_type": "stream",
     "text": [
      "Testing relu_backward function:\n",
      "dx error:  3.2756349136310288e-12\n"
     ]
    }
   ],
   "source": [
    "# Test the relu_backward function\n",
    "np.random.seed(231)\n",
    "x = np.random.randn(10, 10)\n",
    "dout = np.random.randn(*x.shape)\n",
    "\n",
    "dx_num = eval_numerical_gradient_array(lambda x: relu_forward(x)[0], x, dout)\n",
    "\n",
    "_, cache = relu_forward(x)\n",
    "dx = relu_backward(dout, cache)\n",
    "\n",
    "# The error should be on the order of e-12\n",
    "print('Testing relu_backward function:')\n",
    "print('dx error: ', rel_error(dx_num, dx))"
   ]
  },
  {
   "cell_type": "markdown",
   "id": "b0f2e4d2",
   "metadata": {},
   "source": [
    "# Sigmoid activation: forward\n",
    "Implement the forward pass for the Sigmoid activation function in the `sigmoid_forward` function and test your implementation using numeric gradient checking."
   ]
  },
  {
   "cell_type": "code",
   "execution_count": 10,
   "id": "872854b0",
   "metadata": {},
   "outputs": [],
   "source": [
    "def sigmoid_forward(x):\n",
    "    \"\"\"\n",
    "    Computes the forward pass for a layer of Sigmoid.\n",
    "\n",
    "    Input:\n",
    "    - x: Inputs, of any shape\n",
    "\n",
    "    Returns a tuple of:\n",
    "    - out: Output, of the same shape as x\n",
    "    - cache: x\n",
    "    \"\"\"\n",
    "    ###########################################################################\n",
    "    # TODO: Implement the Sigmoid forward pass.                               #\n",
    "    ###########################################################################\n",
    "    # *****START OF YOUR CODE (DO NOT DELETE/MODIFY THIS LINE)*****\n",
    "    out = 1 / (1 + np.exp(-x))\n",
    "    cache = x\n",
    "    return out, cache\n",
    "\n",
    "    pass"
   ]
  },
  {
   "cell_type": "code",
   "execution_count": 11,
   "id": "1aadfec8",
   "metadata": {},
   "outputs": [
    {
     "name": "stdout",
     "output_type": "stream",
     "text": [
      "Testing sigmoid_forward function:\n",
      "difference:  6.383174040859927e-07\n"
     ]
    }
   ],
   "source": [
    "# Test the sigmoid_forward function\n",
    "\n",
    "x = np.linspace(-6, 6, num=12).reshape(3, 4)\n",
    "\n",
    "out, _ = sigmoid_forward(x)\n",
    "correct_out = np.array([[0.00247262, 0.00732514, 0.0214955 , 0.06138311],\n",
    "                        [0.16296047, 0.36691963, 0.63308037, 0.83703953],\n",
    "                        [0.93861689, 0.9785045 , 0.99267486, 0.99752738]])\n",
    "\n",
    "# Compare your output with ours. The error should be on the order of e-7\n",
    "print('Testing sigmoid_forward function:')\n",
    "print('difference: ', rel_error(out, correct_out))"
   ]
  },
  {
   "cell_type": "markdown",
   "id": "9aa4e6a8",
   "metadata": {},
   "source": [
    "# Sigmoid activation: backward\n",
    "Now implement the backward pass for the Sigmoid activation function in the `sigmoid_backward` function."
   ]
  },
  {
   "cell_type": "code",
   "execution_count": 12,
   "id": "fe527984",
   "metadata": {},
   "outputs": [],
   "source": [
    "def sigmoid_backward(dout, cache):\n",
    "    \"\"\"\n",
    "    Computes the backward pass for a layer of Sigmoid.\n",
    "\n",
    "    Input:\n",
    "    - dout: Upstream derivatives, of any shape\n",
    "    - cache: Input x, of same shape as dout\n",
    "\n",
    "    Returns:\n",
    "    - dx: Gradient with respect to x\n",
    "    \"\"\"\n",
    "    ###########################################################################\n",
    "    # TODO: Implement the Sigmoid backward pass.                              #\n",
    "    ###########################################################################\n",
    "    # *****START OF YOUR CODE (DO NOT DELETE/MODIFY THIS LINE)*****\n",
    "    x = cache\n",
    "    dx = dout * (1 / (1 + np.exp(-x)) * (1 - 1 / (1 + np.exp(-x))))\n",
    "    return dx\n",
    "    \n",
    "    pass"
   ]
  },
  {
   "cell_type": "markdown",
   "id": "b5ec2570",
   "metadata": {},
   "source": [
    "You can test your implementation using numeric gradient checking:"
   ]
  },
  {
   "cell_type": "code",
   "execution_count": 13,
   "id": "e06a7eef",
   "metadata": {},
   "outputs": [
    {
     "name": "stdout",
     "output_type": "stream",
     "text": [
      "Testing sigmoid_backward function:\n",
      "dx error:  3.446520386706568e-11\n"
     ]
    }
   ],
   "source": [
    "# Test the sigmoid_backward function\n",
    "np.random.seed(231)\n",
    "x = np.random.randn(10, 10)\n",
    "dout = np.random.randn(*x.shape)\n",
    "\n",
    "dx_num = eval_numerical_gradient_array(lambda x: sigmoid_forward(x)[0], x, dout)\n",
    "\n",
    "_, cache = sigmoid_forward(x)\n",
    "dx = sigmoid_backward(dout, cache)\n",
    "\n",
    "# The error should be on the order of e-11\n",
    "print('Testing sigmoid_backward function:')\n",
    "print('dx error: ', rel_error(dx_num, dx))"
   ]
  },
  {
   "cell_type": "markdown",
   "id": "1eb8d7a7",
   "metadata": {},
   "source": [
    "# \"Sandwich\" layers\n",
    "There are some common patterns of layers that are frequently used in neural nets. For example, affine layers are frequently followed by a ReLU nonlinearity. Implement the forward and backward pass for the affine layer followed by a ReLU nonlinearity in the `affine_relu_forward` and `affine_relu_backward` functions. "
   ]
  },
  {
   "cell_type": "code",
   "execution_count": 14,
   "id": "7283bd3d",
   "metadata": {},
   "outputs": [],
   "source": [
    "def affine_relu_forward(x, w, b):\n",
    "    \"\"\"\n",
    "    Convenience layer that performs an affine transform followed by a ReLU\n",
    "\n",
    "    Inputs:\n",
    "    - x: Input to the affine layer\n",
    "    - w, b: Weights for the affine layer\n",
    "\n",
    "    Returns a tuple of:\n",
    "    - out: Output from the ReLU\n",
    "    - cache: Object to give to the backward pass\n",
    "    \"\"\"\n",
    "    ###########################################################################\n",
    "    # TODO: Implement the affine-RELU forward pass.                           #\n",
    "    ###########################################################################\n",
    "    # *****START OF YOUR CODE (DO NOT DELETE/MODIFY THIS LINE)*****\n",
    "    out, cache = affine_forward(x, w, b)\n",
    "    out, relu_cache = relu_forward(out)\n",
    "    cache = (cache, relu_cache)\n",
    "    return out, cache\n",
    "    \n",
    "    \n",
    "    pass"
   ]
  },
  {
   "cell_type": "code",
   "execution_count": 15,
   "id": "00e27852",
   "metadata": {},
   "outputs": [],
   "source": [
    "def affine_relu_backward(dout, cache):\n",
    "    \"\"\"\n",
    "    Backward pass for the affine-relu convenience layer\n",
    "    \n",
    "    Inputs:\n",
    "    - dout: Upstream derivatives, of any shape\n",
    "    - cache: (fc_cache, relu_cache)\n",
    "      \n",
    "    Returns a tuple of:\n",
    "    - dx: Gradient with respect to x\n",
    "    - dw: Gradient with respect to w\n",
    "    - db: Gradient with respect to b\n",
    "    \"\"\"\n",
    "    ###########################################################################\n",
    "    # TODO: Implement the affine-RELU backward pass.                          #\n",
    "    ###########################################################################\n",
    "    # *****START OF YOUR CODE (DO NOT DELETE/MODIFY THIS LINE)*****\n",
    "    fc_cache, relu_cache = cache\n",
    "    derivative_with_respect_to_out = relu_backward(dout, relu_cache)\n",
    "    dx, dw, db = affine_backward(derivative_with_respect_to_out, fc_cache)\n",
    "    return dx, dw, db\n",
    "    \n",
    "    pass"
   ]
  },
  {
   "cell_type": "markdown",
   "id": "ccdd0b18",
   "metadata": {},
   "source": [
    "You can test your implementation using numeric gradient checking:"
   ]
  },
  {
   "cell_type": "code",
   "execution_count": 16,
   "id": "d53fb1c9",
   "metadata": {},
   "outputs": [
    {
     "name": "stdout",
     "output_type": "stream",
     "text": [
      "Testing affine_relu_forward and affine_relu_backward:\n",
      "dx error:  2.299579177309368e-11\n",
      "dw error:  8.162011105764925e-11\n",
      "db error:  7.826724021458994e-12\n"
     ]
    }
   ],
   "source": [
    "# Test the affine_relu_backward function\n",
    "\n",
    "np.random.seed(231)\n",
    "x = np.random.randn(2, 3, 4)\n",
    "w = np.random.randn(12, 10)\n",
    "b = np.random.randn(10)\n",
    "dout = np.random.randn(2, 10)\n",
    "\n",
    "out, cache = affine_relu_forward(x, w, b)\n",
    "dx, dw, db = affine_relu_backward(dout, cache)\n",
    "\n",
    "dx_num = eval_numerical_gradient_array(lambda x: affine_relu_forward(x, w, b)[0], x, dout)\n",
    "dw_num = eval_numerical_gradient_array(lambda w: affine_relu_forward(x, w, b)[0], w, dout)\n",
    "db_num = eval_numerical_gradient_array(lambda b: affine_relu_forward(x, w, b)[0], b, dout)\n",
    "\n",
    "# Relative error should be around e-10 or less\n",
    "print('Testing affine_relu_forward and affine_relu_backward:')\n",
    "print('dx error: ', rel_error(dx_num, dx))\n",
    "print('dw error: ', rel_error(dw_num, dw))\n",
    "print('db error: ', rel_error(db_num, db))"
   ]
  },
  {
   "cell_type": "markdown",
   "id": "0bd6b07f",
   "metadata": {},
   "source": [
    "# Batch Normalization: Forward Pass\n",
    "Implement the batch normalization forward pass in the function `batchnorm_forward`."
   ]
  },
  {
   "cell_type": "code",
   "execution_count": 17,
   "id": "7ae14e5d",
   "metadata": {},
   "outputs": [],
   "source": [
    "def batchnorm_forward(x, gamma, beta, bn_param):\n",
    "    \"\"\"Forward pass for batch normalization.\n",
    "\n",
    "    During training the sample mean and (uncorrected) sample variance are\n",
    "    computed from minibatch statistics and used to normalize the incoming data.\n",
    "    During training we also keep an exponentially decaying running mean of the\n",
    "    mean and variance of each feature, and these averages are used to normalize\n",
    "    data at test-time.\n",
    "\n",
    "    At each timestep we update the running averages for mean and variance using\n",
    "    an exponential decay based on the momentum parameter:\n",
    "\n",
    "    running_mean = momentum * running_mean + (1 - momentum) * sample_mean\n",
    "    running_var = momentum * running_var + (1 - momentum) * sample_var\n",
    "\n",
    "    Input:\n",
    "    - x: Data of shape (N, D)\n",
    "    - gamma: Scale parameter of shape (D,)\n",
    "    - beta: Shift paremeter of shape (D,)\n",
    "    - bn_param: Dictionary with the following keys:\n",
    "      - mode: 'train' or 'test'; required\n",
    "      - eps: Constant for numeric stability\n",
    "      - momentum: Constant for running mean / variance.\n",
    "      - running_mean: Array of shape (D,) giving running mean of features\n",
    "      - running_var Array of shape (D,) giving running variance of features\n",
    "\n",
    "    Returns a tuple of:\n",
    "    - out: of shape (N, D)\n",
    "    - cache: A tuple of values needed in the backward pass\n",
    "    \"\"\"\n",
    "    mode = bn_param[\"mode\"]\n",
    "    eps = bn_param.get(\"eps\", 1e-5)\n",
    "    momentum = bn_param.get(\"momentum\", 0.9)\n",
    "\n",
    "    N, D = x.shape\n",
    "    running_mean = bn_param.get(\"running_mean\", np.zeros(D, dtype=x.dtype))\n",
    "    running_var = bn_param.get(\"running_var\", np.zeros(D, dtype=x.dtype))\n",
    "\n",
    "    out, cache = None, None\n",
    "    if mode == \"train\":\n",
    "        #######################################################################\n",
    "        # TODO: Implement the training-time forward pass for batch norm.      #\n",
    "        # Use minibatch statistics to compute the mean and variance, use      #\n",
    "        # these statistics to normalize the incoming data, and scale and      #\n",
    "        # shift the normalized data using gamma and beta.                     #\n",
    "        #                                                                     #\n",
    "        # You should store the output in the variable out. Any intermediates  #\n",
    "        # that you need for the backward pass should be stored in the cache   #\n",
    "        # variable.                                                           #\n",
    "        #                                                                     #\n",
    "        # You should also use your computed sample mean and variance together #\n",
    "        # with the momentum variable to update the running mean and running   #\n",
    "        # variance, storing your result in the running_mean and running_var   #\n",
    "        # variables.                                                          #\n",
    "        #                                                                     #\n",
    "        # Note that though you should be keeping track of the running         #\n",
    "        # variance, you should normalize the data based on the standard       #\n",
    "        # deviation (square root of variance) instead!                        #\n",
    "        #######################################################################\n",
    "        # *****START OF YOUR CODE (DO NOT DELETE/MODIFY THIS LINE)*****\n",
    "        minibatch_mean = np.mean(x, axis=0)\n",
    "        minibatch_var = np.var(x, axis=0)\n",
    "        x_hat = (x - minibatch_mean) / np.sqrt(minibatch_var + eps)\n",
    "        out = x_hat * gamma + beta\n",
    "        running_mean = momentum * running_mean + (1 - momentum) * minibatch_mean\n",
    "        running_var = momentum * running_var + (1 - momentum) * minibatch_var\n",
    "        cache = (x, x_hat, minibatch_mean, minibatch_var, gamma, beta, eps)\n",
    "        \n",
    "\n",
    "        # *****END OF YOUR CODE (DO NOT DELETE/MODIFY THIS LINE)*****\n",
    "        #######################################################################\n",
    "        #                           END OF YOUR CODE                          #\n",
    "        #######################################################################\n",
    "    elif mode == \"test\":\n",
    "        #######################################################################\n",
    "        # TODO: Implement the test-time forward pass for batch normalization. #\n",
    "        # Use the running mean and variance to normalize the incoming data,   #\n",
    "        # then scale and shift the normalized data using gamma and beta.      #\n",
    "        # Store the result in the out variable.                               #\n",
    "        #######################################################################\n",
    "        # *****START OF YOUR CODE (DO NOT DELETE/MODIFY THIS LINE)*****\n",
    "        x_hat = (x - running_mean) / np.sqrt(running_var + eps)\n",
    "        out = gamma * x_hat + beta\n",
    "        cache = (x, x_hat, running_mean, running_var, gamma, beta, eps)\n",
    "\n",
    "        \n",
    "\n",
    "        # *****END OF YOUR CODE (DO NOT DELETE/MODIFY THIS LINE)*****\n",
    "        #######################################################################\n",
    "        #                          END OF YOUR CODE                           #\n",
    "        #######################################################################\n",
    "    else:\n",
    "        raise ValueError('Invalid forward batchnorm mode \"%s\"' % mode)\n",
    "\n",
    "    # Store the updated running means back into bn_param\n",
    "    bn_param[\"running_mean\"] = running_mean\n",
    "    bn_param[\"running_var\"] = running_var\n",
    "    return out, cache"
   ]
  },
  {
   "cell_type": "markdown",
   "id": "54b94ccd",
   "metadata": {},
   "source": [
    "Run the following to test your implementation."
   ]
  },
  {
   "cell_type": "code",
   "execution_count": 18,
   "id": "71831d47",
   "metadata": {},
   "outputs": [
    {
     "name": "stdout",
     "output_type": "stream",
     "text": [
      "Before batch normalization:\n",
      "  means: [ -2.3814598  -13.18038246   1.91780462]\n",
      "  stds:  [27.18502186 34.21455511 37.68611762]\n",
      "\n",
      "After batch normalization (gamma=1, beta=0)\n",
      "  means: [6.43929354e-17 7.82707232e-17 1.03389519e-17]\n",
      "  stds:  [0.99999999 1.         1.        ]\n",
      "\n",
      "After batch normalization (gamma= [1. 2. 3.] , beta= [11. 12. 13.] )\n",
      "  means: [11. 12. 13.]\n",
      "  stds:  [0.99999999 1.99999999 2.99999999]\n",
      "\n"
     ]
    }
   ],
   "source": [
    "# Check the training-time forward pass by checking means and variances\n",
    "# of features both before and after batch normalization   \n",
    "\n",
    "# Simulate the forward pass for a two-layer network.\n",
    "np.random.seed(231)\n",
    "N, D1, D2, D3 = 200, 50, 60, 3\n",
    "X = np.random.randn(N, D1)\n",
    "W1 = np.random.randn(D1, D2)\n",
    "W2 = np.random.randn(D2, D3)\n",
    "a = np.maximum(0, X.dot(W1)).dot(W2)\n",
    "\n",
    "print('Before batch normalization:')\n",
    "print_mean_std(a,axis=0)\n",
    "\n",
    "gamma = np.ones((D3,))\n",
    "beta = np.zeros((D3,))\n",
    "\n",
    "# Means should be close to zero and stds close to one.\n",
    "print('After batch normalization (gamma=1, beta=0)')\n",
    "a_norm, _ = batchnorm_forward(a, gamma, beta, {'mode': 'train'})\n",
    "print_mean_std(a_norm,axis=0)\n",
    "\n",
    "gamma = np.asarray([1.0, 2.0, 3.0])\n",
    "beta = np.asarray([11.0, 12.0, 13.0])\n",
    "\n",
    "# Now means should be close to beta and stds close to gamma.\n",
    "print('After batch normalization (gamma=', gamma, ', beta=', beta, ')')\n",
    "a_norm, _ = batchnorm_forward(a, gamma, beta, {'mode': 'train'})\n",
    "print_mean_std(a_norm,axis=0)"
   ]
  },
  {
   "cell_type": "code",
   "execution_count": 19,
   "id": "d89dca02",
   "metadata": {},
   "outputs": [
    {
     "name": "stdout",
     "output_type": "stream",
     "text": [
      "After batch normalization (test-time):\n",
      "  means: [-0.03927354 -0.04349152 -0.10452688]\n",
      "  stds:  [1.01531428 1.01238373 0.97819988]\n",
      "\n"
     ]
    }
   ],
   "source": [
    "# Check the test-time forward pass by running the training-time\n",
    "# forward pass many times to warm up the running averages, and then\n",
    "# checking the means and variances of activations after a test-time\n",
    "# forward pass.\n",
    "\n",
    "np.random.seed(231)\n",
    "N, D1, D2, D3 = 200, 50, 60, 3\n",
    "W1 = np.random.randn(D1, D2)\n",
    "W2 = np.random.randn(D2, D3)\n",
    "\n",
    "bn_param = {'mode': 'train'}\n",
    "gamma = np.ones(D3)\n",
    "beta = np.zeros(D3)\n",
    "\n",
    "for t in range(50):\n",
    "    X = np.random.randn(N, D1)\n",
    "    a = np.maximum(0, X.dot(W1)).dot(W2)\n",
    "    batchnorm_forward(a, gamma, beta, bn_param)\n",
    "\n",
    "bn_param['mode'] = 'test'\n",
    "X = np.random.randn(N, D1)\n",
    "a = np.maximum(0, X.dot(W1)).dot(W2)\n",
    "a_norm, _ = batchnorm_forward(a, gamma, beta, bn_param)\n",
    "\n",
    "# Means should be close to zero and stds close to one, but will be\n",
    "# noisier than training-time forward passes.\n",
    "print('After batch normalization (test-time):')\n",
    "print_mean_std(a_norm,axis=0)"
   ]
  },
  {
   "cell_type": "markdown",
   "id": "07719acb",
   "metadata": {},
   "source": [
    "# Batch Normalization: Backward Pass\n",
    "Now implement the backward pass for batch normalization in the function `batchnorm_backward`.\n",
    "\n",
    "In the forward pass, given a set of inputs $X=\\begin{bmatrix}x_1\\\\x_2\\\\...\\\\x_N\\end{bmatrix}$, \n",
    "\n",
    "we first calculate the mean $\\mu$ and variance $var$.\n",
    "With $\\mu$ and $var$ calculated, we can calculate the standard deviation $\\sigma$  and normalized data $Y$.\n",
    "The equations and graph illustration below describe the computation ($y_i$ is the i-th element of the vector $Y$).\n",
    "\n",
    "\\begin{align}\n",
    "& \\mu=\\frac{1}{N}\\sum_{k=1}^N x_k  &  var=\\frac{1}{N}\\sum_{k=1}^N (x_k-\\mu)^2 \\\\\n",
    "& \\sigma=\\sqrt{v+\\epsilon}         &  y_i=\\frac{x_i-\\mu}{\\sigma}\n",
    "\\end{align}"
   ]
  },
  {
   "cell_type": "markdown",
   "id": "06afd7ac",
   "metadata": {},
   "source": [
    "<img src=\"imgs/batchnorm_graph.png\">"
   ]
  },
  {
   "cell_type": "markdown",
   "id": "462af44e",
   "metadata": {},
   "source": [
    "You should make sure each of the intermediary gradient derivations are all as simplified as possible, for ease of implementation."
   ]
  },
  {
   "cell_type": "code",
   "execution_count": 20,
   "id": "07b2bf8c",
   "metadata": {},
   "outputs": [],
   "source": [
    "def batchnorm_backward(dout, cache):\n",
    "    \"\"\"Backward pass for batch normalization.\n",
    "\n",
    "    For this implementation, you should write out a computation graph for\n",
    "    batch normalization on paper and propagate gradients backward through\n",
    "    intermediate nodes.\n",
    "\n",
    "    Inputs:\n",
    "    - dout: Upstream derivatives, of shape (N, D)\n",
    "    - cache: Variable of intermediates from batchnorm_forward.\n",
    "\n",
    "    Returns a tuple of:\n",
    "    - dx: Gradient with respect to inputs x, of shape (N, D)\n",
    "    - dgamma: Gradient with respect to scale parameter gamma, of shape (D,)\n",
    "    - dbeta: Gradient with respect to shift parameter beta, of shape (D,)\n",
    "    \"\"\"\n",
    "    ###########################################################################\n",
    "    # TODO: Implement the backward pass for batch normalization. Store the    #\n",
    "    # results in the dx, dgamma, and dbeta variables.                         #\n",
    "    ###########################################################################\n",
    "    # *****START OF YOUR CODE (DO NOT DELETE/MODIFY THIS LINE)*****\n",
    "    x, x_hat, mean, var, gamma, beta, eps = cache\n",
    "    N = x.shape[0]\n",
    "    dbeta = np.sum(dout, axis=0)\n",
    "    dgamma = np.sum(dout * x_hat, axis=0)\n",
    "    dx_hat = dout * gamma\n",
    "    dvar = np.sum(dx_hat * (x - mean) * -0.5 * (var + eps) ** (-1.5), axis=0)\n",
    "    dmean = np.sum(dx_hat * -1 / np.sqrt(var + eps), axis=0) + dvar * np.mean(-2 * (x - mean), axis=0)\n",
    "    dx = dx_hat / np.sqrt(var + eps) + dvar * 2 * (x - mean) / N + dmean / N\n",
    "    return dx, dgamma, dbeta\n",
    "\n",
    "    pass"
   ]
  },
  {
   "cell_type": "markdown",
   "id": "d6891d0a",
   "metadata": {},
   "source": [
    "Run the following to numerically check your backward pass."
   ]
  },
  {
   "cell_type": "code",
   "execution_count": 21,
   "id": "e615e6b0",
   "metadata": {},
   "outputs": [
    {
     "name": "stdout",
     "output_type": "stream",
     "text": [
      "dx error:  1.7029261167605239e-09\n",
      "dgamma error:  7.420414216247087e-13\n",
      "dbeta error:  2.8795057655839487e-12\n"
     ]
    }
   ],
   "source": [
    "# Gradient check batchnorm backward pass.\n",
    "np.random.seed(231)\n",
    "N, D = 4, 5\n",
    "x = 5 * np.random.randn(N, D) + 12\n",
    "gamma = np.random.randn(D)\n",
    "beta = np.random.randn(D)\n",
    "dout = np.random.randn(N, D)\n",
    "\n",
    "bn_param = {'mode': 'train'}\n",
    "fx = lambda x: batchnorm_forward(x, gamma, beta, bn_param)[0]\n",
    "fg = lambda a: batchnorm_forward(x, a, beta, bn_param)[0]\n",
    "fb = lambda b: batchnorm_forward(x, gamma, b, bn_param)[0]\n",
    "\n",
    "dx_num = eval_numerical_gradient_array(fx, x, dout)\n",
    "da_num = eval_numerical_gradient_array(fg, gamma.copy(), dout)\n",
    "db_num = eval_numerical_gradient_array(fb, beta.copy(), dout)\n",
    "\n",
    "_, cache = batchnorm_forward(x, gamma, beta, bn_param)\n",
    "dx, dgamma, dbeta = batchnorm_backward(dout, cache)\n",
    "\n",
    "# You should expect to see relative errors between 1e-13 and 1e-8.\n",
    "print('dx error: ', rel_error(dx_num, dx))\n",
    "print('dgamma error: ', rel_error(da_num, dgamma))\n",
    "print('dbeta error: ', rel_error(db_num, dbeta))"
   ]
  },
  {
   "cell_type": "markdown",
   "id": "a9227f7e",
   "metadata": {},
   "source": [
    "# Loss layer: Softmax\n",
    "Now implement the loss and gradient for softmax in the `softmax_loss` function."
   ]
  },
  {
   "cell_type": "code",
   "execution_count": 22,
   "id": "e99a83c5",
   "metadata": {},
   "outputs": [],
   "source": [
    "def softmax_loss(x, y):\n",
    "    \"\"\"\n",
    "    Computes the loss and gradient for softmax classification.\n",
    "\n",
    "    Inputs:\n",
    "    - x: Input data, of shape (N, C) where x[i, j] is the score for the jth\n",
    "      class for the ith input.\n",
    "    - y: Vector of labels, of shape (N,) where y[i] is the label for x[i] and\n",
    "      0 <= y[i] < C\n",
    "\n",
    "    Returns a tuple of:\n",
    "    - loss: Scalar giving the loss\n",
    "    - dx: Gradient of the loss with respect to x\n",
    "    \"\"\"\n",
    "    ###########################################################################\n",
    "    # TODO: Implement the softmax_loss function.                              #\n",
    "    ###########################################################################\n",
    "    # *****START OF YOUR CODE (DO NOT DELETE/MODIFY THIS LINE)*****\n",
    "    N = x.shape[0]\n",
    "    x_exp = np.exp(x)\n",
    "    x_sum = np.sum(x_exp, axis=1, keepdims=True)\n",
    "    x_exp /= x_sum\n",
    "    loss = -np.sum(np.log(x_exp[np.arange(N), y])) / N\n",
    "    dx = x_exp.copy()\n",
    "    dx[np.arange(N), y] -= 1\n",
    "    dx /= N\n",
    "    return loss, dx\n",
    "\n",
    "\n",
    "    pass"
   ]
  },
  {
   "cell_type": "markdown",
   "id": "afee8350",
   "metadata": {},
   "source": [
    "You can make sure that the implementations are correct by running the following:"
   ]
  },
  {
   "cell_type": "code",
   "execution_count": 23,
   "id": "ca558e12",
   "metadata": {},
   "outputs": [
    {
     "name": "stdout",
     "output_type": "stream",
     "text": [
      "\n",
      "Testing softmax_loss:\n",
      "loss:  2.302545844500738\n",
      "dx error:  9.483503037636722e-09\n"
     ]
    }
   ],
   "source": [
    "np.random.seed(231)\n",
    "num_classes, num_inputs = 10, 50\n",
    "x = 0.001 * np.random.randn(num_inputs, num_classes)\n",
    "y = np.random.randint(num_classes, size=num_inputs)\n",
    "\n",
    "dx_num = eval_numerical_gradient(lambda x: softmax_loss(x, y)[0], x, verbose=False)\n",
    "loss, dx = softmax_loss(x, y)\n",
    "\n",
    "# Test softmax_loss function. Loss should be close to 2.3 and dx error should be around e-8\n",
    "print('\\nTesting softmax_loss:')\n",
    "print('loss: ', loss)\n",
    "print('dx error: ', rel_error(dx_num, dx))"
   ]
  },
  {
   "cell_type": "markdown",
   "id": "31d4492a",
   "metadata": {},
   "source": [
    "# Loss layer: MSE\n",
    "Now implement the loss and gradient for mean squared error in the `mse_loss` function."
   ]
  },
  {
   "cell_type": "code",
   "execution_count": 93,
   "id": "92f5cdd9",
   "metadata": {},
   "outputs": [],
   "source": [
    "def mse_loss(x, y):\n",
    "    \"\"\"\n",
    "    Computes the loss and gradient for MSE loss.\n",
    "\n",
    "    Inputs:\n",
    "    - x: Input data, of shape (N,) where x[i] is the predicted vector for \n",
    "        the ith input.\n",
    "    - y: Vector of target values, of shape (N,) where y[i] is the target value\n",
    "        for the ith input.\n",
    "\n",
    "    Returns a tuple of:\n",
    "    - loss: Scalar giving the loss\n",
    "    - dx: Gradient of the loss with respect to x\n",
    "    \"\"\"\n",
    "    ###########################################################################\n",
    "    # TODO: Implement the mse_loss function.                                  #\n",
    "    ###########################################################################\n",
    "    # *****START OF YOUR CODE (DO NOT DELETE/MODIFY THIS LINE)*****\n",
    "    N = x.shape[0]\n",
    "    loss = np.sum((x - y) ** 2) / N\n",
    "    # actual_out = np.argmax(x, axis=1)\n",
    "    # loss = np.sum(np.square(actual_out - y)) / N\n",
    "    new_x = x.flatten()\n",
    "    dx = 2 * (new_x - y) / N\n",
    "    dx = dx.reshape((N,1))\n",
    "    # print(x.shape,y.shape,dx.shape)\n",
    "    return loss, dx\n",
    "\n",
    "    pass"
   ]
  },
  {
   "cell_type": "markdown",
   "id": "55b5b9db",
   "metadata": {},
   "source": [
    "You can make sure that the implementations are correct by running the following:"
   ]
  },
  {
   "cell_type": "code",
   "execution_count": 25,
   "id": "0e850132",
   "metadata": {},
   "outputs": [
    {
     "name": "stdout",
     "output_type": "stream",
     "text": [
      "\n",
      "Testing mse_loss:\n",
      "loss:  1.8672282748726519\n",
      "dx error:  2.8607953262121067e-09\n"
     ]
    }
   ],
   "source": [
    "np.random.seed(231)\n",
    "num_inputs = 50\n",
    "x = np.random.randn(num_inputs)\n",
    "y = np.random.randn(num_inputs)\n",
    "\n",
    "dx_num = eval_numerical_gradient(lambda x: mse_loss(x, y)[0], x, verbose=False)\n",
    "loss, dx = mse_loss(x, y)\n",
    "\n",
    "# Test mse_loss function. Loss should be close to 1.9 and dx error should be around e-9\n",
    "print('\\nTesting mse_loss:')\n",
    "print('loss: ', loss)\n",
    "print('dx error: ', rel_error(dx_num, dx))"
   ]
  },
  {
   "cell_type": "markdown",
   "id": "71a7bb75",
   "metadata": {},
   "source": [
    "# Multi-Layer Fully Connected Network\n",
    "In this part, you will implement a fully connected network with an arbitrary number of hidden layers."
   ]
  },
  {
   "cell_type": "code",
   "execution_count": 97,
   "id": "ffd460d2",
   "metadata": {},
   "outputs": [],
   "source": [
    "class FullyConnectedNet(object):\n",
    "    \"\"\"Class for a multi-layer fully connected neural network.\n",
    "\n",
    "    Network contains an arbitrary number of hidden layers, ReLU nonlinearities,\n",
    "    and a softmax loss function for a classification problem or the MSE loss function for \n",
    "    a regression problem. This will also implement batch normalization as an option. \n",
    "    For a network with L layers, the architecture will be\n",
    "\n",
    "    {affine - [batchnorm] - relu} x (L - 1) - affine - softmax/mse\n",
    "\n",
    "    where batch normalization is optional in each layer and the {...} block is\n",
    "    repeated L - 1 times.\n",
    "\n",
    "    Learnable parameters are stored in the self.params dictionary and will be learned\n",
    "    using the Solver class.\n",
    "    \"\"\"\n",
    "\n",
    "    def __init__(\n",
    "        self,\n",
    "        category,\n",
    "        hidden_dims,\n",
    "        normalization,\n",
    "        input_dim=784,\n",
    "        output_dim=10,\n",
    "        reg=0.0,\n",
    "        weight_scale=1e-2,\n",
    "        dtype=np.float32,\n",
    "    ):\n",
    "        \"\"\"Initialize a new FullyConnectedNet.\n",
    "\n",
    "        Inputs:\n",
    "        - category: The type of the problem. Valid values are \"classification\",\n",
    "            \"regression\".\n",
    "        - hidden_dims: A list of integers giving the size of each hidden layer.\n",
    "        - normalization: A list of booleans which shows that we have batch \n",
    "            normalization after the affine layer.\n",
    "        - input_dim: An integer giving the size of the input.\n",
    "        - output_dim: An integer giving the number of classes to classify. It\n",
    "            is 1 for a regression problem.\n",
    "        - reg: Scalar giving L2 regularization strength.\n",
    "        - weight_scale: Scalar giving the standard deviation for random\n",
    "            initialization of the weights.\n",
    "        - dtype: A numpy datatype object; all computations will be performed using\n",
    "            this datatype. float32 is faster but less accurate, so you should use\n",
    "            float64 for numeric gradient checking.\n",
    "        \"\"\"\n",
    "        self.category = category\n",
    "        self.normalization = normalization\n",
    "        self.reg = reg\n",
    "        self.num_layers = 1 + len(hidden_dims)\n",
    "        self.dtype = dtype\n",
    "        self.params = {}\n",
    "\n",
    "        ############################################################################\n",
    "        # TODO: Initialize the parameters of the network, storing all values in    #\n",
    "        # the self.params dictionary. Store weights and biases for the first layer #\n",
    "        # in W1 and b1; for the second layer use W2 and b2, etc. Weights should be #\n",
    "        # initialized from a normal distribution centered at 0 with standard       #\n",
    "        # deviation equal to weight_scale. Biases should be initialized to zero.   #\n",
    "        #                                                                          #\n",
    "        # When using batch normalization, store scale and shift parameters for the #\n",
    "        # first layer in gamma1 and beta1; for the second layer use gamma2 and     #\n",
    "        # beta2, etc. Scale parameters should be initialized to ones and shift     #\n",
    "        # parameters should be initialized to zeros.                               #\n",
    "        ############################################################################\n",
    "        # *****START OF YOUR CODE (DO NOT DELETE/MODIFY THIS LINE)*****\n",
    "        self.params['W1'] = np.random.randn(input_dim, hidden_dims[0]) * math.sqrt(weight_scale)\n",
    "        for i in range(2, self.num_layers):\n",
    "            self.params['W' + str(i)] = np.random.randn(hidden_dims[i - 2], hidden_dims[i-1]) * math.sqrt(weight_scale)\n",
    "        for i in range(1, self.num_layers):\n",
    "            self.params['b' + str(i)] = np.zeros(hidden_dims[i - 1])\n",
    "        self.params['W' + str(self.num_layers)] = np.random.randn(hidden_dims[-1], output_dim) * math.sqrt(weight_scale)\n",
    "        self.params['b' + str(self.num_layers)] = np.zeros(output_dim)\n",
    "        for i in range(1,self.num_layers):\n",
    "            if normalization[i - 1]:\n",
    "                self.params['gamma' + str(i)] = np.ones(hidden_dims[i-1])\n",
    "                self.params['beta' + str(i)] = np.zeros(hidden_dims[i-1])\n",
    "        \n",
    "        pass\n",
    "\n",
    "        # *****END OF YOUR CODE (DO NOT DELETE/MODIFY THIS LINE)*****\n",
    "        ############################################################################\n",
    "        #                             END OF YOUR CODE                             #\n",
    "        ############################################################################\n",
    "\n",
    "        # With batch normalization we need to keep track of running means and\n",
    "        # variances, so we need to pass a special bn_param object to each batch\n",
    "        # normalization layer. You should pass self.bn_params[0] to the forward pass\n",
    "        # of the first batch normalization layer, self.bn_params[1] to the forward\n",
    "        # pass of the second batch normalization layer, etc.\n",
    "        self.bn_params = [{\"mode\": \"train\"} for i in range(self.num_layers - 1)]\n",
    "\n",
    "        # Cast all parameters to the correct datatype.\n",
    "        for k, v in self.params.items():\n",
    "            self.params[k] = v.astype(dtype)\n",
    "\n",
    "    def loss(self, X, y=None):\n",
    "        \"\"\"Compute loss and gradient for the fully connected net.\n",
    "        \n",
    "        Inputs:\n",
    "        - X: Array of input data of shape (N, d_1, ..., d_k)\n",
    "        - y: Array of labels / target values, of shape (N,). y[i] gives the \n",
    "            label / target value for X[i].\n",
    "\n",
    "        Returns:\n",
    "        If y is None, then run a test-time forward pass of the model and return\n",
    "        scores for a classification problem or the predicted_values for \n",
    "        a regression problem:\n",
    "        - out: Array of shape (N, C) / (N, ) giving classification scores / predicted values, where \n",
    "        scores[i, c] is the classification score for X[i] and class c / predicted_values[i]\n",
    "        is the predicted value for X[i].\n",
    "            \n",
    "\n",
    "        If y is not None, then run a training-time forward and backward pass and\n",
    "        return a tuple of:\n",
    "        - loss: Scalar value giving the loss\n",
    "        - grads: Dictionary with the same keys as self.params, mapping parameter\n",
    "            names to gradients of the loss with respect to those parameters.\n",
    "        \"\"\"\n",
    "        X = X.astype(self.dtype)\n",
    "        mode = \"test\" if y is None else \"train\"\n",
    "\n",
    "        # Set train/test mode for batchnorm params since they\n",
    "        # behave differently during training and testing.\n",
    "        for bn_param in self.bn_params:\n",
    "            bn_param[\"mode\"] = mode\n",
    "        ############################################################################\n",
    "        # TODO: Implement the forward pass for the fully connected net, computing  #\n",
    "        # the class scores / target values for X and storing them in the out       #\n",
    "        #  variable.                                                               #\n",
    "        #                                                                          #\n",
    "        # When using batch normalization, you'll need to pass self.bn_params[0] to #\n",
    "        # the forward pass for the first batch normalization layer, pass           #\n",
    "        # self.bn_params[1] to the forward pass for the second batch normalization #\n",
    "        # layer, etc.                                                              #\n",
    "        ############################################################################\n",
    "        # *****START OF YOUR CODE (DO NOT DELETE/MODIFY THIS LINE)*****\n",
    "        reshaped_X = X.reshape(X.shape[0], -1)\n",
    "        caches = []\n",
    "        for i in range(1, self.num_layers+1):\n",
    "            reshaped_X, cache2 = affine_forward(reshaped_X, self.params['W' + str(i)], self.params['b' + str(i)])\n",
    "            if i != self.num_layers and self.normalization[i - 1] :\n",
    "                gamma = self.params['gamma' + str(i)]\n",
    "                beta = self.params['beta' + str(i)]\n",
    "                bn_param = self.bn_params[i - 1]\n",
    "                reshaped_X, cache1 = batchnorm_forward(reshaped_X, gamma, beta, bn_param)\n",
    "            else: cache1 = None\n",
    "            if i != self.num_layers:\n",
    "                reshaped_X, cache3 = relu_forward(reshaped_X) \n",
    "            else : cache3 = None\n",
    "            caches.append([cache1, cache2, cache3])\n",
    "        \n",
    "            \n",
    "\n",
    "            \n",
    "        out = reshaped_X\n",
    "        \n",
    "        \n",
    "\n",
    "        # *****END OF YOUR CODE (DO NOT DELETE/MODIFY THIS LINE)*****\n",
    "        ############################################################################\n",
    "        #                             END OF YOUR CODE                             #\n",
    "        ############################################################################\n",
    "\n",
    "        # If test mode return early.\n",
    "        if mode == \"test\":\n",
    "            return out\n",
    "            \n",
    "        loss, grads = 0.0, {}\n",
    "        ############################################################################\n",
    "        # TODO: Implement the backward pass for the fully connected net. Store the #\n",
    "        # loss in the loss variable and gradients in the grads dictionary. Compute #\n",
    "        # data loss using softmax/mse, and make sure that grads[k] holds the       #\n",
    "        # gradients for self.params[k]. Don't forget to add L2 regularization!     #\n",
    "        #                                                                          #\n",
    "        # When using batch normalization, you don't need to regularize the scale   #\n",
    "        # and shift parameters.                                                    #\n",
    "        #                                                                          #\n",
    "        # NOTE: To ensure that your implementation matches ours and you pass the   #\n",
    "        # automated tests, make sure that your L2 regularization includes a factor #\n",
    "        # of 0.5 to simplify the expression for the gradient.                      #\n",
    "        ############################################################################\n",
    "        # *****START OF YOUR CODE (DO NOT DELETE/MODIFY THIS LINE)*****\n",
    "        if self.category == 'classification': loss , dx = softmax_loss(reshaped_X, y)\n",
    "        else : loss , dx = mse_loss(reshaped_X, y)\n",
    "        loss += 0.5 * self.reg * np.sum(self.params['W' + str(self.num_layers)] * self.params['W' + str(self.num_layers)])\n",
    "        dx, dw, db = affine_backward(dx, caches[-1][1])\n",
    "        grads['W' + str(self.num_layers)] = dw + self.reg * self.params['W' + str(self.num_layers)]\n",
    "        grads['b' + str(self.num_layers)] = db\n",
    "        # print(self.normalization)\n",
    "        for i in range(self.num_layers-1, 0, -1):\n",
    "            loss += 0.5 * self.reg * np.sum(self.params['W' + str(i)] ** 2)\n",
    "            dx = relu_backward(dx, caches[i - 1][2])\n",
    "            if self.normalization[i - 1]:\n",
    "                gamma = self.params['gamma' + str(i)]\n",
    "                beta = self.params['beta' + str(i)]\n",
    "                # bn_param = self.bn_params[i - 1]\n",
    "                dx, dgamma, dbeta = batchnorm_backward(dx, caches[i - 1][0])\n",
    "                grads['gamma' + str(i)] = dgamma\n",
    "                grads['beta' + str(i)] = dbeta\n",
    "            dx, dw, db = affine_backward(dx, caches[i - 1][1])\n",
    "            grads['W' + str(i)] = dw + self.reg * self.params['W' + str(i)]\n",
    "            grads['b' + str(i)] = db\n",
    "            \n",
    "        # *****END OF YOUR CODE (DO NOT DELETE/MODIFY THIS LINE)*****\n",
    "        ############################################################################\n",
    "        #                             END OF YOUR CODE                             #\n",
    "        ############################################################################\n",
    "\n",
    "        return loss, grads"
   ]
  },
  {
   "cell_type": "markdown",
   "id": "a14a2795",
   "metadata": {},
   "source": [
    "## Initial Loss and Gradient Check\n",
    "\n",
    "As a sanity check, run the following to check the initial loss and to gradient check the network both with and without regularization. This is a good way to see if the initial losses seem reasonable.\n",
    "\n",
    "For gradient checking, you should expect to see errors around 1e-7 or less."
   ]
  },
  {
   "cell_type": "code",
   "execution_count": 50,
   "id": "cf719033",
   "metadata": {},
   "outputs": [
    {
     "name": "stdout",
     "output_type": "stream",
     "text": [
      "Running check with reg =  0\n",
      "Initial loss:  2.229774207571989\n",
      "W1 relative error: 2.3384879209974817e-08\n",
      "W2 relative error: 1.5379926546120446e-07\n",
      "W3 relative error: 3.8921307088980874e-08\n",
      "b1 relative error: 6.045967537302155e-10\n",
      "b2 relative error: 3.981201219407782e-10\n",
      "b3 relative error: 1.3415152538316437e-10\n",
      "Running check with reg =  3.14\n",
      "Initial loss:  97.35568670308714\n",
      "W1 relative error: 8.586801406085394e-07\n",
      "W2 relative error: 1.402747073629106e-07\n",
      "W3 relative error: 2.3356165028506143e-08\n",
      "b1 relative error: 4.544345579925681e-09\n",
      "b2 relative error: 7.941608961140248e-09\n",
      "b3 relative error: 6.455606354517962e-09\n"
     ]
    }
   ],
   "source": [
    "np.random.seed(231)\n",
    "N, D, H1, H2, C = 2, 15, 20, 30, 10\n",
    "X = np.random.randn(N, D)\n",
    "y = np.random.randint(C, size=(N,))\n",
    "\n",
    "for reg in [0, 3.14]:\n",
    "    print(\"Running check with reg = \", reg)\n",
    "    model = FullyConnectedNet(\n",
    "        \"classification\",\n",
    "        [H1, H2],\n",
    "        [False, False],\n",
    "        input_dim=D,\n",
    "        output_dim=C,\n",
    "        reg=reg,\n",
    "        weight_scale=5e-2,\n",
    "        dtype=np.float64\n",
    "    )\n",
    "\n",
    "    loss, grads = model.loss(X, y)\n",
    "    print(\"Initial loss: \", loss)\n",
    "\n",
    "    # Most of the errors should be on the order of e-7 or smaller.   \n",
    "    # NOTE: It is fine however to see an error for W2 on the order of e-5\n",
    "    # for the check when reg = 0.0\n",
    "    for name in sorted(grads):\n",
    "        f = lambda _: model.loss(X, y)[0]\n",
    "        grad_num = eval_numerical_gradient(f, model.params[name], verbose=False, h=1e-5)\n",
    "        print(f\"{name} relative error: {rel_error(grad_num, grads[name])}\")"
   ]
  },
  {
   "cell_type": "code",
   "execution_count": 51,
   "id": "0bc48caf",
   "metadata": {},
   "outputs": [
    {
     "name": "stdout",
     "output_type": "stream",
     "text": [
      "Running check with reg =  0\n",
      "Initial loss:  1.8740987605843364\n",
      "W1 relative error: 9.48e-04\n",
      "W2 relative error: 4.08e-05\n",
      "W3 relative error: 5.53e-10\n",
      "b1 relative error: 3.47e-10\n",
      "b2 relative error: 5.55e-09\n",
      "b3 relative error: 1.63e-10\n",
      "beta1 relative error: 7.09e-08\n",
      "beta2 relative error: 4.54e-10\n",
      "gamma1 relative error: 5.00e-08\n",
      "gamma2 relative error: 9.30e-10\n",
      "\n",
      "Running check with reg =  3.14\n",
      "Initial loss:  97.24899365835648\n",
      "W1 relative error: 2.85e-07\n",
      "W2 relative error: 4.38e-07\n",
      "W3 relative error: 5.78e-08\n",
      "b1 relative error: 1.73e-10\n",
      "b2 relative error: 1.67e-08\n",
      "b3 relative error: 3.59e-09\n",
      "beta1 relative error: 1.19e-07\n",
      "beta2 relative error: 2.21e-08\n",
      "gamma1 relative error: 2.25e-07\n",
      "gamma2 relative error: 3.68e-08\n"
     ]
    }
   ],
   "source": [
    "np.random.seed(231)\n",
    "N, D, H1, H2, C = 2, 15, 20, 30, 10\n",
    "X = np.random.randn(N, D)\n",
    "y = np.random.randint(C, size=(N,))\n",
    "\n",
    "# You should expect losses between 1e-4~1e-10 for W, \n",
    "# losses between 1e-08~1e-10 for b,\n",
    "# and losses between 1e-08~1e-09 for beta and gammas.\n",
    "for reg in [0, 3.14]:\n",
    "    print('Running check with reg = ', reg)\n",
    "    model = FullyConnectedNet(\n",
    "        \"classification\", \n",
    "        [H1, H2],\n",
    "        [True, True],\n",
    "        input_dim=D,\n",
    "        output_dim=C,\n",
    "        reg=reg,\n",
    "        weight_scale=5e-2,\n",
    "        dtype=np.float64\n",
    "    )\n",
    "\n",
    "    loss, grads = model.loss(X, y)\n",
    "    print('Initial loss: ', loss)\n",
    "\n",
    "    for name in sorted(grads):\n",
    "        f = lambda _: model.loss(X, y)[0]\n",
    "        grad_num = eval_numerical_gradient(f, model.params[name], verbose=False, h=1e-5)\n",
    "        print('%s relative error: %.2e' % (name, rel_error(grad_num, grads[name])))\n",
    "    if reg == 0: print()"
   ]
  },
  {
   "cell_type": "markdown",
   "id": "6042ddcf",
   "metadata": {},
   "source": [
    "## SGD+Momentum\n",
    "Stochastic gradient descent with momentum is a widely used update rule that tends to make deep networks converge faster than vanilla stochastic gradient descent.\n",
    "\n",
    "Implement the SGD+momentum update rule in the function `sgd_momentum`."
   ]
  },
  {
   "cell_type": "code",
   "execution_count": 52,
   "id": "2e678506",
   "metadata": {},
   "outputs": [],
   "source": [
    "def sgd_momentum(w, dw, config=None):\n",
    "    \"\"\"\n",
    "    Performs stochastic gradient descent with momentum.\n",
    "    Inputs:\n",
    "    - w: A numpy array giving the current weights.\n",
    "    - dw: A numpy array of the same shape as w giving the gradient of the\n",
    "    loss with respect to w.\n",
    "    - config: A dictionary containing hyperparameter values such as learning\n",
    "    rate, momentum.\n",
    "\n",
    "    Returns:\n",
    "      - next_w: The next point after the update.\n",
    "      - config: The config dictionary to be passed to the next iteration of the\n",
    "        update rule.\n",
    "\n",
    "    config format:\n",
    "    - learning_rate: Scalar learning rate.\n",
    "    - momentum: Scalar between 0 and 1 giving the momentum value.\n",
    "      Setting momentum = 0 reduces sgd_momentum to stochastic gradient descent.\n",
    "    - velocity: A numpy array of the same shape as w and dw used to store a\n",
    "      moving average of the gradients.\n",
    "    \"\"\"\n",
    "    if config is None:\n",
    "        config = {}\n",
    "    config.setdefault(\"learning_rate\", 1e-2)\n",
    "    config.setdefault(\"momentum\", 0.9)\n",
    "    v = config.get(\"velocity\", np.zeros_like(w))\n",
    "\n",
    "    next_w = None\n",
    "    ###########################################################################\n",
    "    # TODO: Implement the momentum update formula. Store the updated value in #\n",
    "    # the next_w variable. You should also use and update the velocity v.     #\n",
    "    ###########################################################################\n",
    "    # *****START OF YOUR CODE (DO NOT DELETE/MODIFY THIS LINE)*****\n",
    "    v = config['momentum'] * v - config['learning_rate'] * dw\n",
    "    next_w = w + v\n",
    "\n",
    "    # *****END OF YOUR CODE (DO NOT DELETE/MODIFY THIS LINE)*****\n",
    "    ###########################################################################\n",
    "    #                             END OF YOUR CODE                            #\n",
    "    ###########################################################################\n",
    "    config[\"velocity\"] = v\n",
    "\n",
    "    return next_w, config"
   ]
  },
  {
   "cell_type": "markdown",
   "id": "f1730d10",
   "metadata": {},
   "source": [
    "Run the following to check your implementation. You should see errors less than e-8."
   ]
  },
  {
   "cell_type": "code",
   "execution_count": 53,
   "id": "3595fc5b",
   "metadata": {},
   "outputs": [
    {
     "name": "stdout",
     "output_type": "stream",
     "text": [
      "next_w error:  8.882347033505819e-09\n",
      "velocity error:  4.269287743278663e-09\n"
     ]
    }
   ],
   "source": [
    "N, D = 4, 5\n",
    "w = np.linspace(-0.4, 0.6, num=N*D).reshape(N, D)\n",
    "dw = np.linspace(-0.6, 0.4, num=N*D).reshape(N, D)\n",
    "v = np.linspace(0.6, 0.9, num=N*D).reshape(N, D)\n",
    "\n",
    "config = {\"learning_rate\": 1e-3, \"velocity\": v}\n",
    "next_w, _ = sgd_momentum(w, dw, config=config)\n",
    "\n",
    "expected_next_w = np.asarray([\n",
    "  [ 0.1406,      0.20738947,  0.27417895,  0.34096842,  0.40775789],\n",
    "  [ 0.47454737,  0.54133684,  0.60812632,  0.67491579,  0.74170526],\n",
    "  [ 0.80849474,  0.87528421,  0.94207368,  1.00886316,  1.07565263],\n",
    "  [ 1.14244211,  1.20923158,  1.27602105,  1.34281053,  1.4096    ]])\n",
    "expected_velocity = np.asarray([\n",
    "  [ 0.5406,      0.55475789,  0.56891579, 0.58307368,  0.59723158],\n",
    "  [ 0.61138947,  0.62554737,  0.63970526,  0.65386316,  0.66802105],\n",
    "  [ 0.68217895,  0.69633684,  0.71049474,  0.72465263,  0.73881053],\n",
    "  [ 0.75296842,  0.76712632,  0.78128421,  0.79544211,  0.8096    ]])\n",
    "\n",
    "# Should see relative errors around e-8 or less\n",
    "print(\"next_w error: \", rel_error(next_w, expected_next_w))\n",
    "print(\"velocity error: \", rel_error(expected_velocity, config[\"velocity\"]))"
   ]
  },
  {
   "cell_type": "markdown",
   "id": "cc30c93e",
   "metadata": {},
   "source": [
    "# MNIST\n",
    "MNIST is a widely used dataset of handwritten digits that contains 60,000 handwritten digits for training a machine learning model and 10,000 handwritten digits for testing the model."
   ]
  },
  {
   "cell_type": "code",
   "execution_count": 54,
   "id": "e3fa8400",
   "metadata": {},
   "outputs": [
    {
     "name": "stdout",
     "output_type": "stream",
     "text": [
      "Train data shape:  (50000, 784)\n",
      "Train labels shape:  (50000,)\n",
      "Validation data shape:  (10000, 784)\n",
      "Validation labels shape:  (10000,)\n",
      "Test data shape:  (10000, 784)\n",
      "Test labels shape:  (10000,)\n"
     ]
    }
   ],
   "source": [
    "X_train, y_train, X_val, y_val, X_test, y_test = get_MNIST_data()\n",
    "print('Train data shape: ', X_train.shape)\n",
    "print('Train labels shape: ', y_train.shape)\n",
    "print('Validation data shape: ', X_val.shape)\n",
    "print('Validation labels shape: ', y_val.shape)\n",
    "print('Test data shape: ', X_test.shape)\n",
    "print('Test labels shape: ', y_test.shape)"
   ]
  },
  {
   "cell_type": "code",
   "execution_count": 55,
   "id": "1e15a728",
   "metadata": {},
   "outputs": [
    {
     "data": {
      "image/png": "[encoded data removed]",
      "text/plain": [
       "<Figure size 720x576 with 70 Axes>"
      ]
     },
     "metadata": {
      "needs_background": "light"
     },
     "output_type": "display_data"
    }
   ],
   "source": [
    "# Visualize some examples from the dataset.\n",
    "# We show a few examples of training images from each class.\n",
    "classes = list(range(10))\n",
    "num_classes = len(classes)\n",
    "samples_per_class = 7\n",
    "for y, cls in enumerate(classes):\n",
    "    idxs = np.flatnonzero(y_train == y)\n",
    "    idxs = np.random.choice(idxs, samples_per_class, replace=False)\n",
    "    for i, idx in enumerate(idxs):\n",
    "        plt_idx = i * num_classes + y + 1\n",
    "        plt.subplot(samples_per_class, num_classes, plt_idx)\n",
    "        plt.imshow(X_train[idx].reshape((28, 28)))\n",
    "        plt.axis('off')\n",
    "        if i == 0:\n",
    "            plt.title(cls)\n",
    "plt.show()"
   ]
  },
  {
   "cell_type": "markdown",
   "id": "ca6ad76a",
   "metadata": {},
   "source": [
    "Data normalization is an important step which ensures that each input parameter has a similar data distribution. This makes convergence faster while training the network."
   ]
  },
  {
   "cell_type": "code",
   "execution_count": 56,
   "id": "ea87dfbb",
   "metadata": {},
   "outputs": [],
   "source": [
    "X_train, X_val, X_test = get_normalized_MNIST_data(X_train, X_val, X_test)"
   ]
  },
  {
   "cell_type": "markdown",
   "id": "3ed0af35",
   "metadata": {},
   "source": [
    "# Train a Good Model!\n",
    "Open the file `solver.py` and read through it to familiarize yourself with the API. After doing so, use a `Solver` instance to train the best fully connected model that you can on MNIST, storing your best model in the `MNIST_best_model` variable. We require you to get at least 95% accuracy on the validation set using a fully connected network."
   ]
  },
  {
   "cell_type": "code",
   "execution_count": 57,
   "id": "5d59d748",
   "metadata": {},
   "outputs": [
    {
     "name": "stdout",
     "output_type": "stream",
     "text": [
      "(Iteration 1 / 5000) loss: 2.355997\n",
      "(Epoch 0 / 10) train acc: 0.122000; val_acc: 0.122600\n",
      "(Iteration 101 / 5000) loss: 1.822779\n",
      "(Iteration 201 / 5000) loss: 1.497199\n",
      "(Iteration 301 / 5000) loss: 1.174152\n",
      "(Iteration 401 / 5000) loss: 0.947516\n",
      "(Epoch 1 / 10) train acc: 0.826000; val_acc: 0.847800\n",
      "(Iteration 501 / 5000) loss: 0.838969\n",
      "(Iteration 601 / 5000) loss: 0.665397\n",
      "(Iteration 701 / 5000) loss: 0.549048\n",
      "(Iteration 801 / 5000) loss: 0.473934\n",
      "(Iteration 901 / 5000) loss: 0.571274\n",
      "(Epoch 2 / 10) train acc: 0.904000; val_acc: 0.898600\n",
      "(Iteration 1001 / 5000) loss: 0.547375\n",
      "(Iteration 1101 / 5000) loss: 0.398135\n",
      "(Iteration 1201 / 5000) loss: 0.351046\n",
      "(Iteration 1301 / 5000) loss: 0.301721\n",
      "(Iteration 1401 / 5000) loss: 0.378385\n",
      "(Epoch 3 / 10) train acc: 0.916000; val_acc: 0.917600\n",
      "(Iteration 1501 / 5000) loss: 0.348026\n",
      "(Iteration 1601 / 5000) loss: 0.320261\n",
      "(Iteration 1701 / 5000) loss: 0.241055\n",
      "(Iteration 1801 / 5000) loss: 0.355125\n",
      "(Iteration 1901 / 5000) loss: 0.289451\n",
      "(Epoch 4 / 10) train acc: 0.934000; val_acc: 0.930300\n",
      "(Iteration 2001 / 5000) loss: 0.355364\n",
      "(Iteration 2101 / 5000) loss: 0.338388\n",
      "(Iteration 2201 / 5000) loss: 0.191009\n",
      "(Iteration 2301 / 5000) loss: 0.274465\n",
      "(Iteration 2401 / 5000) loss: 0.369030\n",
      "(Epoch 5 / 10) train acc: 0.944000; val_acc: 0.937700\n",
      "(Iteration 2501 / 5000) loss: 0.234637\n",
      "(Iteration 2601 / 5000) loss: 0.094537\n",
      "(Iteration 2701 / 5000) loss: 0.255230\n",
      "(Iteration 2801 / 5000) loss: 0.203008\n",
      "(Iteration 2901 / 5000) loss: 0.176846\n",
      "(Epoch 6 / 10) train acc: 0.952000; val_acc: 0.944700\n",
      "(Iteration 3001 / 5000) loss: 0.219238\n",
      "(Iteration 3101 / 5000) loss: 0.228121\n",
      "(Iteration 3201 / 5000) loss: 0.214828\n",
      "(Iteration 3301 / 5000) loss: 0.226917\n",
      "(Iteration 3401 / 5000) loss: 0.200858\n",
      "(Epoch 7 / 10) train acc: 0.957000; val_acc: 0.946900\n",
      "(Iteration 3501 / 5000) loss: 0.268689\n",
      "(Iteration 3601 / 5000) loss: 0.214750\n",
      "(Iteration 3701 / 5000) loss: 0.150718\n",
      "(Iteration 3801 / 5000) loss: 0.186901\n",
      "(Iteration 3901 / 5000) loss: 0.231488\n",
      "(Epoch 8 / 10) train acc: 0.960000; val_acc: 0.950100\n",
      "(Iteration 4001 / 5000) loss: 0.172024\n",
      "(Iteration 4101 / 5000) loss: 0.144294\n",
      "(Iteration 4201 / 5000) loss: 0.153536\n",
      "(Iteration 4301 / 5000) loss: 0.129420\n",
      "(Iteration 4401 / 5000) loss: 0.265835\n",
      "(Epoch 9 / 10) train acc: 0.964000; val_acc: 0.951900\n",
      "(Iteration 4501 / 5000) loss: 0.110127\n",
      "(Iteration 4601 / 5000) loss: 0.089948\n",
      "(Iteration 4701 / 5000) loss: 0.321320\n",
      "(Iteration 4801 / 5000) loss: 0.161299\n",
      "(Iteration 4901 / 5000) loss: 0.092228\n",
      "(Epoch 10 / 10) train acc: 0.960000; val_acc: 0.953200\n",
      "[0.122, 0.826, 0.904, 0.916, 0.934, 0.944, 0.952, 0.957, 0.96, 0.964, 0.96]\n",
      "[0.1226, 0.8478, 0.8986, 0.9176, 0.9303, 0.9377, 0.9447, 0.9469, 0.9501, 0.9519, 0.9532]\n",
      "0.9532\n"
     ]
    }
   ],
   "source": [
    "MNIST_best_model = None\n",
    "\n",
    "################################################################################\n",
    "# TODO: Train the best FullyConnectedNet that you can on MNIST. You might      #\n",
    "# find batch normalization. Store your best model in                           #\n",
    "# the best_model variable.                                                     #\n",
    "################################################################################\n",
    "# *****START OF YOUR CODE (DO NOT DELETE/MODIFY THIS LINE)*****\n",
    "y_train , y_val, y_test = y_train.astype(np.int32), y_val.astype(np.int32), y_test.astype(np.int32)\n",
    "FCNN = FullyConnectedNet(\"classification\",[500, 300, 100, 50],[True,True,True,True])\n",
    "data = {'X_train': X_train, 'y_train': y_train, 'X_val': X_val, 'y_val': y_val, 'X_test': X_test, 'y_test': y_test}\n",
    "solver = Solver(FCNN, data,update_rule=sgd_momentum,optim_config={'learning_rate':1e-3,'momentum':0.9},verbose=True,num_epochs=10,lr_decay=0.95,batch_size=100,print_every=100)\n",
    "solver.train()\n",
    "print(solver.train_acc_history)\n",
    "print(solver.val_acc_history)\n",
    "# print(solver.best_params)\n",
    "print(solver.best_val_acc)\n",
    "MNIST_best_model = solver.model\n",
    "MNIST_solver = solver\n",
    "\n",
    "\n",
    "pass"
   ]
  },
  {
   "cell_type": "code",
   "execution_count": 58,
   "id": "25f8a45b",
   "metadata": {},
   "outputs": [
    {
     "data": {
      "image/png": "[encoded data removed]",
      "text/plain": [
       "<Figure size 1080x864 with 2 Axes>"
      ]
     },
     "metadata": {
      "needs_background": "light"
     },
     "output_type": "display_data"
    }
   ],
   "source": [
    "# Run this cell to visualize training loss and train / val accuracy\n",
    "\n",
    "plt.subplot(2, 1, 1)\n",
    "plt.title('Training loss')\n",
    "plt.plot(MNIST_solver.loss_history, 'o')\n",
    "plt.xlabel('Iteration')\n",
    "\n",
    "plt.subplot(2, 1, 2)\n",
    "plt.title('Accuracy')\n",
    "plt.plot(MNIST_solver.train_acc_history, '-o', label='train')\n",
    "plt.plot(MNIST_solver.val_acc_history, '-o', label='val')\n",
    "plt.plot([0.8] * len(MNIST_solver.val_acc_history), 'k--')\n",
    "plt.xlabel('Epoch')\n",
    "plt.legend(loc='lower right')\n",
    "plt.gcf().set_size_inches(15, 12)\n",
    "plt.show()"
   ]
  },
  {
   "cell_type": "markdown",
   "id": "19ff7e18",
   "metadata": {},
   "source": [
    "# Test Your Model!\n",
    "Run your best model on the validation and test sets. You should achieve at least 95% accuracy on the validation set."
   ]
  },
  {
   "cell_type": "code",
   "execution_count": 59,
   "id": "3df244fa",
   "metadata": {},
   "outputs": [
    {
     "name": "stdout",
     "output_type": "stream",
     "text": [
      "Validation set accuracy:  0.9532\n",
      "Test set accuracy:  0.9502\n"
     ]
    }
   ],
   "source": [
    "y_test_pred = np.argmax(MNIST_best_model.loss(data['X_test']), axis=1)\n",
    "y_val_pred = np.argmax(MNIST_best_model.loss(data['X_val']), axis=1)\n",
    "print('Validation set accuracy: ', (y_val_pred == data['y_val']).mean())\n",
    "print('Test set accuracy: ', (y_test_pred == data['y_test']).mean())"
   ]
  },
  {
   "cell_type": "markdown",
   "id": "5e9b7aa1",
   "metadata": {},
   "source": [
    "# California housing dataset\n",
    "This is a dataset obtained from the [StatLib repository](https://www.dcc.fc.up.pt/~ltorgo/Regression/cal_housing.html). The data pertains to the houses found in a given California district and some summary stats about them based on the 1990 census data."
   ]
  },
  {
   "cell_type": "code",
   "execution_count": 60,
   "id": "b1ee041f",
   "metadata": {},
   "outputs": [
    {
     "data": {
      "text/html": [
       "<div>\n",
       "<style scoped>\n",
       "    .dataframe tbody tr th:only-of-type {\n",
       "        vertical-align: middle;\n",
       "    }\n",
       "\n",
       "    .dataframe tbody tr th {\n",
       "        vertical-align: top;\n",
       "    }\n",
       "\n",
       "    .dataframe thead th {\n",
       "        text-align: right;\n",
       "    }\n",
       "</style>\n",
       "<table border=\"1\" class=\"dataframe\">\n",
       "  <thead>\n",
       "    <tr style=\"text-align: right;\">\n",
       "      <th></th>\n",
       "      <th>MedInc</th>\n",
       "      <th>HouseAge</th>\n",
       "      <th>AveRooms</th>\n",
       "      <th>AveBedrms</th>\n",
       "      <th>Population</th>\n",
       "      <th>AveOccup</th>\n",
       "      <th>Latitude</th>\n",
       "      <th>Longitude</th>\n",
       "      <th>MedHouseVal</th>\n",
       "    </tr>\n",
       "  </thead>\n",
       "  <tbody>\n",
       "    <tr>\n",
       "      <th>0</th>\n",
       "      <td>8.3252</td>\n",
       "      <td>41.0</td>\n",
       "      <td>6.984127</td>\n",
       "      <td>1.023810</td>\n",
       "      <td>322.0</td>\n",
       "      <td>2.555556</td>\n",
       "      <td>37.88</td>\n",
       "      <td>-122.23</td>\n",
       "      <td>4.526</td>\n",
       "    </tr>\n",
       "    <tr>\n",
       "      <th>1</th>\n",
       "      <td>8.3014</td>\n",
       "      <td>21.0</td>\n",
       "      <td>6.238137</td>\n",
       "      <td>0.971880</td>\n",
       "      <td>2401.0</td>\n",
       "      <td>2.109842</td>\n",
       "      <td>37.86</td>\n",
       "      <td>-122.22</td>\n",
       "      <td>3.585</td>\n",
       "    </tr>\n",
       "    <tr>\n",
       "      <th>2</th>\n",
       "      <td>7.2574</td>\n",
       "      <td>52.0</td>\n",
       "      <td>8.288136</td>\n",
       "      <td>1.073446</td>\n",
       "      <td>496.0</td>\n",
       "      <td>2.802260</td>\n",
       "      <td>37.85</td>\n",
       "      <td>-122.24</td>\n",
       "      <td>3.521</td>\n",
       "    </tr>\n",
       "    <tr>\n",
       "      <th>3</th>\n",
       "      <td>5.6431</td>\n",
       "      <td>52.0</td>\n",
       "      <td>5.817352</td>\n",
       "      <td>1.073059</td>\n",
       "      <td>558.0</td>\n",
       "      <td>2.547945</td>\n",
       "      <td>37.85</td>\n",
       "      <td>-122.25</td>\n",
       "      <td>3.413</td>\n",
       "    </tr>\n",
       "    <tr>\n",
       "      <th>4</th>\n",
       "      <td>3.8462</td>\n",
       "      <td>52.0</td>\n",
       "      <td>6.281853</td>\n",
       "      <td>1.081081</td>\n",
       "      <td>565.0</td>\n",
       "      <td>2.181467</td>\n",
       "      <td>37.85</td>\n",
       "      <td>-122.25</td>\n",
       "      <td>3.422</td>\n",
       "    </tr>\n",
       "  </tbody>\n",
       "</table>\n",
       "</div>"
      ],
      "text/plain": [
       "   MedInc  HouseAge  AveRooms  AveBedrms  Population  AveOccup  Latitude  \\\n",
       "0  8.3252      41.0  6.984127   1.023810       322.0  2.555556     37.88   \n",
       "1  8.3014      21.0  6.238137   0.971880      2401.0  2.109842     37.86   \n",
       "2  7.2574      52.0  8.288136   1.073446       496.0  2.802260     37.85   \n",
       "3  5.6431      52.0  5.817352   1.073059       558.0  2.547945     37.85   \n",
       "4  3.8462      52.0  6.281853   1.081081       565.0  2.181467     37.85   \n",
       "\n",
       "   Longitude  MedHouseVal  \n",
       "0    -122.23        4.526  \n",
       "1    -122.22        3.585  \n",
       "2    -122.24        3.521  \n",
       "3    -122.25        3.413  \n",
       "4    -122.25        3.422  "
      ]
     },
     "execution_count": 60,
     "metadata": {},
     "output_type": "execute_result"
    }
   ],
   "source": [
    "california_housing = fetch_california_housing(as_frame=True)\n",
    "california_housing.frame.head()"
   ]
  },
  {
   "cell_type": "code",
   "execution_count": 61,
   "id": "bbc5ad10",
   "metadata": {},
   "outputs": [
    {
     "name": "stdout",
     "output_type": "stream",
     "text": [
      "Train data shape:  (15640, 8)\n",
      "Train target values shape:  (15640,)\n",
      "Validation data shape:  (2500, 8)\n",
      "Validation target values shape:  (2500,)\n",
      "Test data shape:  (2500, 8)\n",
      "Test target values shape:  (2500,)\n"
     ]
    }
   ],
   "source": [
    "X_train, y_train, X_val, y_val, X_test, y_test = get_california_housing_data()\n",
    "print('Train data shape: ', X_train.shape)\n",
    "print('Train target values shape: ', y_train.shape)\n",
    "print('Validation data shape: ', X_val.shape)\n",
    "print('Validation target values shape: ', y_val.shape)\n",
    "print('Test data shape: ', X_test.shape)\n",
    "print('Test target values shape: ', y_test.shape)"
   ]
  },
  {
   "cell_type": "code",
   "execution_count": null,
   "id": "30a1eeb3",
   "metadata": {},
   "outputs": [],
   "source": [
    "X_train, X_val, X_test = get_california_housing_normalized__data(X_train, X_val, X_test)"
   ]
  },
  {
   "cell_type": "markdown",
   "id": "a1179b5c",
   "metadata": {},
   "source": [
    "# Train a Good Model!\n",
    "Train the best fully connected model that you can on california housing, storing your best model in the `california_housing_best_model` variable."
   ]
  },
  {
   "cell_type": "code",
   "execution_count": 101,
   "id": "2fae7eca",
   "metadata": {},
   "outputs": [
    {
     "name": "stdout",
     "output_type": "stream",
     "text": [
      "(Iteration 1 / 1560) loss: 481.997753\n",
      "(Epoch 0 / 10) train RMS error: 22.740379; val RMS error: 28.891279\n",
      "(Iteration 101 / 1560) loss: 78.651508\n",
      "(Epoch 1 / 10) train RMS error: 11.952900; val RMS error: 14.461838\n",
      "(Iteration 201 / 1560) loss: 139.572880\n",
      "(Iteration 301 / 1560) loss: 133.142928\n",
      "(Epoch 2 / 10) train RMS error: 11.891384; val RMS error: 14.245278\n",
      "(Iteration 401 / 1560) loss: 161.803558\n",
      "(Epoch 3 / 10) train RMS error: 11.873806; val RMS error: 14.386246\n",
      "(Iteration 501 / 1560) loss: 99.926679\n",
      "(Iteration 601 / 1560) loss: 125.483803\n",
      "(Epoch 4 / 10) train RMS error: 11.651447; val RMS error: 14.638158\n",
      "(Iteration 701 / 1560) loss: 111.021827\n",
      "(Epoch 5 / 10) train RMS error: 11.785932; val RMS error: 14.536956\n",
      "(Iteration 801 / 1560) loss: 134.277774\n",
      "(Iteration 901 / 1560) loss: 143.368147\n",
      "(Epoch 6 / 10) train RMS error: 11.771493; val RMS error: 14.566132\n",
      "(Iteration 1001 / 1560) loss: 140.811881\n",
      "(Epoch 7 / 10) train RMS error: 11.476510; val RMS error: 14.379461\n",
      "(Iteration 1101 / 1560) loss: 145.383045\n",
      "(Iteration 1201 / 1560) loss: 139.625559\n",
      "(Epoch 8 / 10) train RMS error: 10.933656; val RMS error: 14.340991\n",
      "(Iteration 1301 / 1560) loss: 145.695883\n",
      "(Iteration 1401 / 1560) loss: 151.894632\n",
      "(Epoch 9 / 10) train RMS error: 11.758823; val RMS error: 14.408381\n",
      "(Iteration 1501 / 1560) loss: 151.338796\n",
      "(Epoch 10 / 10) train RMS error: 11.809462; val RMS error: 14.402101\n"
     ]
    }
   ],
   "source": [
    "california_housing_best_model = None\n",
    "\n",
    "################################################################################\n",
    "# TODO: Train the best FullyConnectedNet that you can on california housing.   #\n",
    "# You might find batch normalization useful. Store your best model in          #\n",
    "# the best_model variable.                                                     #\n",
    "################################################################################\n",
    "# *****START OF YOUR CODE (DO NOT DELETE/MODIFY THIS LINE)*****\n",
    "model = FullyConnectedNet(\"regression\",[100,50, 40, 30, 15],[True,True,True,True,True],input_dim=8,output_dim=1)\n",
    "data = {'X_train': X_train, 'y_train': y_train, 'X_val': X_val, 'y_val': y_val, 'X_test': X_test, 'y_test': y_test}\n",
    "california_housing_solver = Solver(model, data,update_rule=sgd_momentum,optim_config={'learning_rate':1e-3,'momentum':0.9},verbose=True,num_epochs=10,lr_decay=0.95,batch_size=100,print_every=100)\n",
    "california_housing_solver.train()\n",
    "best_model = california_housing_solver.model\n",
    "\n",
    "\n",
    "pass"
   ]
  },
  {
   "cell_type": "code",
   "execution_count": 102,
   "id": "43e51742",
   "metadata": {},
   "outputs": [
    {
     "data": {
      "image/png": "[encoded data removed]",
      "text/plain": [
       "<Figure size 1080x864 with 2 Axes>"
      ]
     },
     "metadata": {
      "needs_background": "light"
     },
     "output_type": "display_data"
    }
   ],
   "source": [
    "# Run this cell to visualize training loss and train / val RMS error\n",
    "\n",
    "plt.subplot(2, 1, 1)\n",
    "plt.title('Training loss')\n",
    "plt.plot(california_housing_solver.loss_history, 'o')\n",
    "plt.xlabel('Iteration')\n",
    "\n",
    "plt.subplot(2, 1, 2)\n",
    "plt.title('RMS Error')\n",
    "plt.plot(california_housing_solver.train_acc_history, '-o', label='train')\n",
    "plt.plot(california_housing_solver.val_acc_history, '-o', label='val')\n",
    "plt.xlabel('Epoch')\n",
    "plt.legend(loc='lower right')\n",
    "plt.gcf().set_size_inches(15, 12)\n",
    "plt.show()"
   ]
  }
 ],
 "metadata": {
  "kernelspec": {
   "display_name": "Python 3",
   "language": "python",
   "name": "python3"
  },
  "language_info": {
   "codemirror_mode": {
    "name": "ipython",
    "version": 3
   },
   "file_extension": ".py",
   "mimetype": "text/x-python",
   "name": "python",
   "nbconvert_exporter": "python",
   "pygments_lexer": "ipython3",
   "version": "3.8.8"
  },
  "vscode": {
   "interpreter": {
    "hash": "c54263eee3191b96815f850c555da64b2bde27f64f5294711f2298c698e04131"
   }
  }
 },
 "nbformat": 4,
 "nbformat_minor": 5
}
